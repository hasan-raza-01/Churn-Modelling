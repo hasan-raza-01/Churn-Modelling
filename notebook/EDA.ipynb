{
 "cells": [
  {
   "cell_type": "code",
   "execution_count": null,
   "id": "73922cf1",
   "metadata": {},
   "outputs": [],
   "source": [
    "import numpy as np\n",
    "import pandas as pd\n",
    "import seaborn as sns \n",
    "import matplotlib.pyplot as plt \n",
    "%matplotlib inline\n",
    "from copy import deepcopy "
   ]
  },
  {
   "cell_type": "code",
   "execution_count": null,
   "id": "3c6dda6d",
   "metadata": {},
   "outputs": [],
   "source": [
    "data = pd.read_csv(\"D:/MyDatasets/ChurnModelling/data.csv\")\n",
    "df = deepcopy(data)\n",
    "data.shape, df.shape "
   ]
  },
  {
   "cell_type": "code",
   "execution_count": null,
   "id": "35452604",
   "metadata": {},
   "outputs": [],
   "source": [
    "df.head()"
   ]
  },
  {
   "cell_type": "code",
   "execution_count": null,
   "id": "56861e3a",
   "metadata": {},
   "outputs": [],
   "source": [
    "df.info()"
   ]
  },
  {
   "cell_type": "markdown",
   "id": "ee56d4d5",
   "metadata": {},
   "source": [
    "# Observation \n",
    "| Feature Name       | Description                                                                 |\n",
    "|--------------------|-----------------------------------------------------------------------------|\n",
    "| `RowNumber`        | Index of the row                                                            |\n",
    "| `CustomerId`       | Unique ID for each customer                                                 |\n",
    "| `Surname`          | Customer’s last name                                                        |\n",
    "| `CreditScore`      | Creditworthiness score                                                      |\n",
    "| `Geography`        | Country of residence                                                        |\n",
    "| `Gender`           | Male or Female                                                              |\n",
    "| `Age`              | Customer’s age                                                              |\n",
    "| `Tenure`           | Number of years the customer has been with the bank                         |\n",
    "| `Balance`          | Account balance                                                             |\n",
    "| `NumOfProducts`    | Number of bank products the customer uses (1–4)                             |\n",
    "| `HasCrCard`        | 1 if the customer has a credit card, 0 otherwise                            |\n",
    "| `IsActiveMember`   | 1 if the customer is active, 0 if not                                       |\n",
    "| `EstimatedSalary`  | Estimated annual salary                                                     |\n",
    "| `Exited`           | Target variable — 1 if the customer churned, 0 if they stayed               |"
   ]
  },
  {
   "cell_type": "code",
   "execution_count": null,
   "id": "fe09e997",
   "metadata": {},
   "outputs": [],
   "source": [
    "[len(df[feature].unique()) for feature in df.columns]"
   ]
  },
  {
   "cell_type": "code",
   "execution_count": null,
   "id": "f5b58dd5",
   "metadata": {},
   "outputs": [],
   "source": [
    "for feature in df.columns:\n",
    "    print(feature)\n",
    "    print(\"-\"*len(feature))\n",
    "    print(f\"samples:{df[feature].unique().tolist()[:5]}\\ndtype:{df[feature].dtype}, count:{len(df[feature].unique())}, falling_category:{\"numerical\" if df[feature].dtype != \"O\" and len(df[feature].unique()) > 15 else \"categorical\"}\")\n",
    "    print(\"=\"*140)"
   ]
  },
  {
   "cell_type": "code",
   "execution_count": null,
   "id": "a61b8f13",
   "metadata": {},
   "outputs": [],
   "source": [
    "unnecessory_features = [\"RowNumber\", \"CustomerId\", \"Surname\"] \n",
    "unnecessory_features"
   ]
  },
  {
   "cell_type": "code",
   "execution_count": null,
   "id": "03237ea1",
   "metadata": {},
   "outputs": [],
   "source": [
    "[print(col) for col in df.columns if col not in unnecessory_features]\n",
    "print()"
   ]
  },
  {
   "cell_type": "code",
   "execution_count": null,
   "id": "0adfda78",
   "metadata": {},
   "outputs": [],
   "source": [
    "numerical_features = [\n",
    "    feature for feature in df.columns if df[feature].dtype != \"O\" and len(df[feature].unique()) > 15 and feature not in unnecessory_features\n",
    "    ]\n",
    "categorical_features = [\n",
    "    feature for feature in df.columns if feature not in numerical_features and feature not in unnecessory_features\n",
    "    ]\n",
    "print(f\"numerical:{numerical_features}, count:{len(numerical_features)}\")\n",
    "print(f\"categorical:{categorical_features}, count:{len(categorical_features)}\")"
   ]
  },
  {
   "cell_type": "code",
   "execution_count": null,
   "id": "68e58fef",
   "metadata": {},
   "outputs": [],
   "source": [
    "from math import ceil \n",
    "\n",
    "plt.figure(figsize=(16, 8))\n",
    "plt.suptitle(\"Univariate analysis of numerical features\", fontsize=30, fontweight='bold', alpha=0.8, y=1.)\n",
    "for index, feature in enumerate(numerical_features):\n",
    "    plt.subplot(ceil(len(numerical_features)/3), 3, index+1)\n",
    "    sns.kdeplot(df, x=feature, fill=True, color=\"r\")\n",
    "    plt.xlabel(feature)\n",
    "    plt.tight_layout()"
   ]
  },
  {
   "cell_type": "markdown",
   "id": "9fbfde01",
   "metadata": {},
   "source": [
    "# Observation \n",
    "- CreditScore: Maximum account holders are having credit score of range from 500 to 800\n",
    "\n",
    "- Age: Maximum account holders are in between age of 20 to 50 \n",
    "\n",
    "- Balance: Account holders can be grouped on basis of account balance below 50,000 and greater than 50,000. Account holders having less than 50,000 of balance are more in comparision of account holders having balance more than 50,000.\n",
    "\n",
    "- EstimatedSalary: Account holder are having estimated salary of range from 0 to 2,00,000."
   ]
  },
  {
   "cell_type": "code",
   "execution_count": null,
   "id": "640a243d",
   "metadata": {},
   "outputs": [],
   "source": [
    "plt.figure(figsize=(12, 10))\n",
    "plt.suptitle(\"Univariate analysis of categorical features\", fontsize=30, fontweight='bold', alpha=0.8, y=1.)\n",
    "for index, feature in enumerate(categorical_features):\n",
    "    plt.subplot(ceil(len(categorical_features)/2), 2, index+1)\n",
    "    sns.countplot(df, x=feature, color=\"r\")\n",
    "    plt.xlabel(feature)\n",
    "    plt.tight_layout()"
   ]
  },
  {
   "cell_type": "markdown",
   "id": "1fb6eb14",
   "metadata": {},
   "source": [
    "# Observation \n",
    "- Geography: Maximum account holders belongs to France, where Germany and Spain have approximately equal number of account holders.\n",
    "\n",
    "- Gender: Male account holders are more as compare to female account holders. \n",
    "\n",
    "- Tenure: Frequency of account holder who have been with bank for years from 1 to 9 are almost equal in each category where less than 1 year and more than 9 years are less in frequency. \n",
    "\n",
    "- NumOfProducts: Frequency of account holder using single a product or two products at the same time are a lot higer, where customers using three and four products at the same time are very less in frequency.\n",
    "\n",
    "- HasCrCard: A great lead in account holders with holding credit cards but still a lot of account holders are not having credit cards. \n",
    "\n",
    "- IsActiveMember: Approximately 50% of account holders are inactive.\n",
    "\n",
    "- Exited: Some account holders has churned."
   ]
  },
  {
   "cell_type": "code",
   "execution_count": null,
   "id": "60cf590f",
   "metadata": {},
   "outputs": [],
   "source": [
    "plt.figure(figsize=(15, 30))\n",
    "plt.suptitle(\"percentage of data captured by each category of each categorical features\", fontsize=30, fontweight='bold', alpha=0.8, y=1.)\n",
    "for index, feature in enumerate(categorical_features):\n",
    "    plt.subplot(ceil(len(categorical_features)/2), 2, index+1)\n",
    "    plt.pie(df[feature].value_counts().values, labels=df[feature].value_counts().index, autopct=\"%1.2f\", textprops={'fontsize': 18})\n",
    "    plt.xlabel(feature, fontdict={'fontsize': 18})\n",
    "    plt.tight_layout()"
   ]
  },
  {
   "cell_type": "code",
   "execution_count": null,
   "id": "fd6479f2",
   "metadata": {},
   "outputs": [],
   "source": [
    "# for feature in categorical_features:\n",
    "#     print(\"#### \"+feature)\n",
    "#     for category in df[feature].value_counts().index:\n",
    "#         print(f\"- {category} having {(df[feature].value_counts().to_dict()[category])/sum(df[feature].value_counts().values)*100:.2f}% of data\")\n",
    "#     print()"
   ]
  },
  {
   "cell_type": "markdown",
   "id": "d6351c28",
   "metadata": {},
   "source": [
    "# Observation\n",
    "#### Geography\n",
    "- France having 50.14% of data\n",
    "- Germany having 25.09% of data\n",
    "- Spain having 24.77% of data\n",
    "\n",
    "#### Gender\n",
    "- Male having 54.57% of data\n",
    "- Female having 45.43% of data\n",
    "\n",
    "#### Tenure\n",
    "- 2 having 10.48% of data\n",
    "- 1 having 10.35% of data\n",
    "- 7 having 10.28% of data\n",
    "- 8 having 10.25% of data\n",
    "- 5 having 10.12% of data\n",
    "- 3 having 10.09% of data\n",
    "- 4 having 9.89% of data\n",
    "- 9 having 9.84% of data\n",
    "- 6 having 9.67% of data\n",
    "- 10 having 4.90% of data\n",
    "- 0 having 4.13% of data\n",
    "\n",
    "#### NumOfProducts\n",
    "- 1 having 50.84% of data\n",
    "- 2 having 45.90% of data\n",
    "- 3 having 2.66% of data\n",
    "- 4 having 0.60% of data\n",
    "\n",
    "#### HasCrCard\n",
    "- 1 having 70.55% of data\n",
    "- 0 having 29.45% of data\n",
    "\n",
    "#### IsActiveMember\n",
    "- 1 having 51.51% of data\n",
    "- 0 having 48.49% of data\n",
    "\n",
    "#### Exited\n",
    "- 0 having 79.63% of data\n",
    "- 1 having 20.37% of data"
   ]
  },
  {
   "cell_type": "code",
   "execution_count": null,
   "id": "283da108",
   "metadata": {},
   "outputs": [],
   "source": [
    "target = \"Exited\"\n",
    "target"
   ]
  },
  {
   "cell_type": "code",
   "execution_count": null,
   "id": "b023b5ee",
   "metadata": {},
   "outputs": [],
   "source": [
    "plt.figure(figsize=(16, 12))\n",
    "plt.suptitle(\"Multivariate analysis of numerical features with output feature\", fontsize=30, fontweight='bold', alpha=0.8, y=1.)\n",
    "for index, feature in enumerate(numerical_features):\n",
    "    plt.subplot(ceil(len(numerical_features)/2), 2, index+1)\n",
    "    sns.barplot(df, y=feature, hue=target)\n",
    "    plt.xlabel(target)\n",
    "    plt.ylabel(feature)\n",
    "    plt.tight_layout()"
   ]
  },
  {
   "cell_type": "markdown",
   "id": "d3790392",
   "metadata": {},
   "source": [
    "# Observation\n",
    "- Age: After age of 35 customers are usually churn."
   ]
  },
  {
   "cell_type": "code",
   "execution_count": null,
   "id": "af7a9167",
   "metadata": {},
   "outputs": [],
   "source": [
    "categorical_features.remove(target)"
   ]
  },
  {
   "cell_type": "code",
   "execution_count": null,
   "id": "38645d02",
   "metadata": {},
   "outputs": [],
   "source": [
    "categorical_features"
   ]
  },
  {
   "cell_type": "code",
   "execution_count": null,
   "id": "87329ef2",
   "metadata": {},
   "outputs": [],
   "source": [
    "plt.figure(figsize=(16, 12))\n",
    "plt.suptitle(\"Multivariate analysis of categorical features with output feature\", fontsize=30, fontweight='bold', alpha=0.8, y=1.)\n",
    "for index, feature in enumerate(categorical_features):\n",
    "    plt.subplot(ceil(len(categorical_features)/2), 2, index+1)\n",
    "    sns.countplot(df, x=feature, hue=target)\n",
    "    plt.tight_layout()"
   ]
  },
  {
   "cell_type": "markdown",
   "id": "ad6e1cba",
   "metadata": {},
   "source": [
    "# Observation \n",
    "- Geography: Consumers from Germany is very minimum but they have churned a lot as compare to other region. \n",
    "\n",
    "- NumOfProducts: Consumers are consuming only a single product at a time churns a lot. \n",
    "\n",
    "- HasCrCard: Account holders with credit cards chuns more but are also higer in frequency as compare to non credit card holder. \n",
    "\n",
    "- IsActiveMember: Accounts which are not active member are more likely to churn. "
   ]
  },
  {
   "cell_type": "code",
   "execution_count": null,
   "id": "0e15291d",
   "metadata": {},
   "outputs": [],
   "source": [
    "df[numerical_features].describe()"
   ]
  },
  {
   "cell_type": "code",
   "execution_count": null,
   "id": "9a3b3940",
   "metadata": {},
   "outputs": [],
   "source": [
    "sns.heatmap(df[numerical_features].corr(), annot=True)"
   ]
  },
  {
   "cell_type": "code",
   "execution_count": null,
   "id": "609f5ef8",
   "metadata": {},
   "outputs": [],
   "source": [
    "sns.pairplot(df[numerical_features])"
   ]
  },
  {
   "cell_type": "code",
   "execution_count": null,
   "id": "b318ae2e",
   "metadata": {},
   "outputs": [],
   "source": []
  }
 ],
 "metadata": {
  "kernelspec": {
   "display_name": "Churn_Modelling",
   "language": "python",
   "name": "python3"
  },
  "language_info": {
   "codemirror_mode": {
    "name": "ipython",
    "version": 3
   },
   "file_extension": ".py",
   "mimetype": "text/x-python",
   "name": "python",
   "nbconvert_exporter": "python",
   "pygments_lexer": "ipython3",
   "version": "3.12.0"
  }
 },
 "nbformat": 4,
 "nbformat_minor": 5
}
