{
 "cells": [
  {
   "cell_type": "code",
   "execution_count": null,
   "id": "3711c4c8",
   "metadata": {},
   "outputs": [],
   "source": [
    "import numpy as np\n",
    "import pandas as pd\n",
    "import seaborn as sns \n",
    "import matplotlib.pyplot as plt \n",
    "%matplotlib inline\n",
    "from copy import deepcopy "
   ]
  },
  {
   "cell_type": "code",
   "execution_count": null,
   "id": "29ab9092",
   "metadata": {},
   "outputs": [],
   "source": [
    "data = pd.read_csv(\"D:/Projects/Projects/Churn_Modelling/artifacts/data/validation/valid/train.csv\")\n",
    "df = deepcopy(data)\n",
    "data.shape, df.shape "
   ]
  },
  {
   "cell_type": "code",
   "execution_count": null,
   "id": "b165a1b7",
   "metadata": {},
   "outputs": [],
   "source": [
    "df.drop_duplicates(inplace=True)"
   ]
  },
  {
   "cell_type": "code",
   "execution_count": null,
   "id": "ac9faff6",
   "metadata": {},
   "outputs": [],
   "source": [
    "df.shape "
   ]
  },
  {
   "cell_type": "code",
   "execution_count": null,
   "id": "79ef9c9c",
   "metadata": {},
   "outputs": [],
   "source": [
    "df.head()"
   ]
  },
  {
   "cell_type": "code",
   "execution_count": null,
   "id": "56b832c5",
   "metadata": {},
   "outputs": [],
   "source": [
    "unnecessory_features = [\"RowNumber\", \"CustomerId\", \"Surname\"] \n",
    "unnecessory_features"
   ]
  },
  {
   "cell_type": "code",
   "execution_count": null,
   "id": "8ad5cf14",
   "metadata": {},
   "outputs": [],
   "source": [
    "df.drop(unnecessory_features, axis=1, inplace=True)"
   ]
  },
  {
   "cell_type": "code",
   "execution_count": null,
   "id": "a4c5bcdd",
   "metadata": {},
   "outputs": [],
   "source": [
    "df.head()"
   ]
  },
  {
   "cell_type": "code",
   "execution_count": null,
   "id": "c234e0b0",
   "metadata": {},
   "outputs": [],
   "source": [
    "df.info()"
   ]
  },
  {
   "cell_type": "code",
   "execution_count": null,
   "id": "ecb38912",
   "metadata": {},
   "outputs": [],
   "source": [
    "df.isnull().sum()"
   ]
  },
  {
   "cell_type": "code",
   "execution_count": null,
   "id": "3a0a03b1",
   "metadata": {},
   "outputs": [],
   "source": [
    "target = 'Exited'\n",
    "target"
   ]
  },
  {
   "cell_type": "code",
   "execution_count": null,
   "id": "38f1eaff",
   "metadata": {},
   "outputs": [],
   "source": [
    "for feature in df.columns:\n",
    "    print(feature)\n",
    "    print(\"-\"*len(feature))\n",
    "    print(f\"samples:{df[feature].unique().tolist()[:5]}\\ndtype:{df[feature].dtype}, count:{len(df[feature].unique())}, falling_category:{\"numerical\" if df[feature].dtype != \"O\" and len(df[feature].unique()) > 15 else \"categorical\"}\")\n",
    "    print(\"=\"*140)"
   ]
  },
  {
   "cell_type": "code",
   "execution_count": null,
   "id": "d4ebf92e",
   "metadata": {},
   "outputs": [],
   "source": [
    "numerical_features = [feature for feature in df.columns if df[feature].dtype != \"O\" and len(df[feature].unique()) > 15 and feature != target]\n",
    "categorical_features = [feature for feature in df.columns if feature not in numerical_features and feature != target]\n",
    "print(f\"numerical:{numerical_features}, count:{len(numerical_features)}\")\n",
    "print(f\"categorical:{categorical_features}, count:{len(categorical_features)}\")"
   ]
  },
  {
   "cell_type": "code",
   "execution_count": null,
   "id": "a5070293",
   "metadata": {},
   "outputs": [],
   "source": [
    "for feature in numerical_features:\n",
    "    print(feature)\n",
    "    print(\"-\"*len(feature))\n",
    "    print(f\"samples:{df[feature].unique().tolist()[:5]}\\ndtype:{df[feature].dtype}, count:{len(df[feature].unique())}, falling_category:{\"numerical\" if df[feature].dtype != \"O\" and len(df[feature].unique()) > 15 else \"categorical\"}\")\n",
    "    print(\"=\"*140)"
   ]
  },
  {
   "cell_type": "code",
   "execution_count": null,
   "id": "fc4ead05",
   "metadata": {},
   "outputs": [],
   "source": [
    "for feature in categorical_features:\n",
    "    print(feature)\n",
    "    print(\"-\"*len(feature))\n",
    "    print(f\"samples:{df[feature].unique().tolist()[:5]}\\ndtype:{df[feature].dtype}, count:{len(df[feature].unique())}, falling_category:{\"numerical\" if df[feature].dtype != \"O\" and len(df[feature].unique()) > 15 else \"categorical\"}\")\n",
    "    print(\"=\"*140)"
   ]
  },
  {
   "cell_type": "code",
   "execution_count": null,
   "id": "309264cb",
   "metadata": {},
   "outputs": [],
   "source": [
    "for feature in categorical_features:\n",
    "    if df[feature].dtype == 'O':\n",
    "        print(feature)\n",
    "        print(\"-\"*len(feature))\n",
    "        print(f\"samples:{df[feature].unique().tolist()[:5]}\\ndtype:{df[feature].dtype}, count:{len(df[feature].unique())}, falling_category:{\"numerical\" if df[feature].dtype != \"O\" and len(df[feature].unique()) > 15 else \"categorical\"}\")\n",
    "        print(\"=\"*140)"
   ]
  },
  {
   "cell_type": "code",
   "execution_count": null,
   "id": "f20086d7",
   "metadata": {},
   "outputs": [],
   "source": [
    "categorical_features = [feature for feature in df.columns if df[feature].dtype == 'O' and feature not in numerical_features]\n",
    "categorical_features"
   ]
  },
  {
   "cell_type": "code",
   "execution_count": null,
   "id": "db964331",
   "metadata": {},
   "outputs": [],
   "source": [
    "df['Exited'].value_counts()"
   ]
  },
  {
   "cell_type": "code",
   "execution_count": null,
   "id": "a8e26945",
   "metadata": {},
   "outputs": [],
   "source": [
    "from sklearn.preprocessing import OneHotEncoder, StandardScaler \n",
    "from sklearn.compose import ColumnTransformer\n",
    "from sklearn.pipeline import Pipeline "
   ]
  },
  {
   "cell_type": "code",
   "execution_count": null,
   "id": "5b1bad03",
   "metadata": {},
   "outputs": [],
   "source": [
    "numerical_pipeline = Pipeline([\n",
    "    ('scaler', StandardScaler())\n",
    "])\n",
    "categorical_pipeline = Pipeline([\n",
    "    ('encoder', OneHotEncoder())\n",
    "])"
   ]
  },
  {
   "cell_type": "code",
   "execution_count": null,
   "id": "c9332dd9",
   "metadata": {},
   "outputs": [],
   "source": [
    "ct = ColumnTransformer([\n",
    "    ('numerical_pipeline', numerical_pipeline, numerical_features),\n",
    "    ('categorical_pipeline', categorical_pipeline, categorical_features)\n",
    "], remainder='passthrough', n_jobs=-1, verbose=True, verbose_feature_names_out=True)"
   ]
  },
  {
   "cell_type": "code",
   "execution_count": null,
   "id": "743c8b96",
   "metadata": {},
   "outputs": [],
   "source": [
    "transformed_data = ct.fit_transform(df)"
   ]
  },
  {
   "cell_type": "code",
   "execution_count": null,
   "id": "c256aaac",
   "metadata": {},
   "outputs": [],
   "source": [
    "ct.get_feature_names_out()"
   ]
  },
  {
   "cell_type": "code",
   "execution_count": null,
   "id": "46ab11fc",
   "metadata": {},
   "outputs": [],
   "source": [
    "[name.split('__')[1] for name in ct.get_feature_names_out()]"
   ]
  },
  {
   "cell_type": "code",
   "execution_count": null,
   "id": "4359b950",
   "metadata": {},
   "outputs": [],
   "source": [
    "df = pd.DataFrame(transformed_data, columns=[name.split('__')[1] for name in ct.get_feature_names_out()])"
   ]
  },
  {
   "cell_type": "markdown",
   "id": "e23652f9",
   "metadata": {},
   "source": [
    "# upsampling"
   ]
  },
  {
   "cell_type": "code",
   "execution_count": null,
   "id": "e4f20e77",
   "metadata": {},
   "outputs": [],
   "source": [
    "from sklearn.utils import resample "
   ]
  },
  {
   "cell_type": "code",
   "execution_count": null,
   "id": "a8c98553",
   "metadata": {},
   "outputs": [],
   "source": [
    "df[target].value_counts()"
   ]
  },
  {
   "cell_type": "code",
   "execution_count": null,
   "id": "5f311aee",
   "metadata": {},
   "outputs": [],
   "source": [
    "{v:k for k, v in df[target].value_counts().to_dict().items()}[min({v:k for k, v in df[target].value_counts().to_dict().items()})]"
   ]
  },
  {
   "cell_type": "code",
   "execution_count": null,
   "id": "3834ae42",
   "metadata": {},
   "outputs": [],
   "source": [
    "{v:k for k, v in df[target].value_counts().to_dict().items()}[max({v:k for k, v in df[target].value_counts().to_dict().items()})]"
   ]
  },
  {
   "cell_type": "code",
   "execution_count": null,
   "id": "5481e11a",
   "metadata": {},
   "outputs": [],
   "source": [
    "df_majority = df[df[target]=={v:k for k, v in df[target].value_counts().to_dict().items()}[max({v:k for k, v in df[target].value_counts().to_dict().items()})]]\n",
    "df_minurity = df[df[target]=={v:k for k, v in df[target].value_counts().to_dict().items()}[min({v:k for k, v in df[target].value_counts().to_dict().items()})]]"
   ]
  },
  {
   "cell_type": "code",
   "execution_count": null,
   "id": "9652848b",
   "metadata": {},
   "outputs": [],
   "source": [
    "df_majority.head()"
   ]
  },
  {
   "cell_type": "code",
   "execution_count": null,
   "id": "ee382cc7",
   "metadata": {},
   "outputs": [],
   "source": [
    "df_minurity.head()"
   ]
  },
  {
   "cell_type": "code",
   "execution_count": null,
   "id": "b48b4454",
   "metadata": {},
   "outputs": [],
   "source": [
    "df_majority.shape, df_minurity.shape"
   ]
  },
  {
   "cell_type": "code",
   "execution_count": null,
   "id": "3559cb74",
   "metadata": {},
   "outputs": [],
   "source": [
    "len(df_majority)"
   ]
  },
  {
   "cell_type": "code",
   "execution_count": null,
   "id": "c9467652",
   "metadata": {},
   "outputs": [],
   "source": [
    "df_minurity_resampled = resample(df_minurity, replace=True, n_samples=len(df_majority), random_state=42)"
   ]
  },
  {
   "cell_type": "code",
   "execution_count": null,
   "id": "7a7cf505",
   "metadata": {},
   "outputs": [],
   "source": [
    "df_minurity_resampled.shape"
   ]
  },
  {
   "cell_type": "code",
   "execution_count": null,
   "id": "c26eb37e",
   "metadata": {},
   "outputs": [],
   "source": [
    "df_majority.shape, df_minurity_resampled.shape"
   ]
  },
  {
   "cell_type": "code",
   "execution_count": null,
   "id": "f4656f19",
   "metadata": {},
   "outputs": [],
   "source": [
    "type(df_minurity_resampled)"
   ]
  },
  {
   "cell_type": "code",
   "execution_count": null,
   "id": "02d77ebb",
   "metadata": {},
   "outputs": [],
   "source": [
    "df_minurity_resampled.head()"
   ]
  },
  {
   "cell_type": "code",
   "execution_count": null,
   "id": "520d60a5",
   "metadata": {},
   "outputs": [],
   "source": [
    "df = pd.concat([df_majority, df_minurity_resampled], axis=0)\n",
    "df.shape"
   ]
  },
  {
   "cell_type": "code",
   "execution_count": null,
   "id": "ef2ada35",
   "metadata": {},
   "outputs": [],
   "source": [
    "df[target].value_counts()"
   ]
  },
  {
   "cell_type": "code",
   "execution_count": null,
   "id": "f4da10d7",
   "metadata": {},
   "outputs": [],
   "source": [
    "df.columns"
   ]
  },
  {
   "cell_type": "code",
   "execution_count": null,
   "id": "85830448",
   "metadata": {},
   "outputs": [],
   "source": [
    "df.head()"
   ]
  },
  {
   "cell_type": "code",
   "execution_count": null,
   "id": "0e8d9018",
   "metadata": {},
   "outputs": [],
   "source": [
    "df.tail()"
   ]
  },
  {
   "cell_type": "code",
   "execution_count": null,
   "id": "34f9a087",
   "metadata": {},
   "outputs": [],
   "source": []
  }
 ],
 "metadata": {
  "kernelspec": {
   "display_name": "Churn_Modelling",
   "language": "python",
   "name": "python3"
  },
  "language_info": {
   "codemirror_mode": {
    "name": "ipython",
    "version": 3
   },
   "file_extension": ".py",
   "mimetype": "text/x-python",
   "name": "python",
   "nbconvert_exporter": "python",
   "pygments_lexer": "ipython3",
   "version": "3.12.0"
  }
 },
 "nbformat": 4,
 "nbformat_minor": 5
}
