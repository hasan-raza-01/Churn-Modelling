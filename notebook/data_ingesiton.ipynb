{
 "cells": [
  {
   "cell_type": "code",
   "execution_count": null,
   "id": "9a2a5de6",
   "metadata": {},
   "outputs": [],
   "source": [
    "import os "
   ]
  },
  {
   "cell_type": "code",
   "execution_count": null,
   "id": "2a0d7724",
   "metadata": {},
   "outputs": [],
   "source": [
    "os.getcwd()"
   ]
  },
  {
   "cell_type": "code",
   "execution_count": null,
   "id": "b10f3679",
   "metadata": {},
   "outputs": [],
   "source": [
    "os.chdir(\"..\")"
   ]
  },
  {
   "cell_type": "code",
   "execution_count": null,
   "id": "b86cebd7",
   "metadata": {},
   "outputs": [],
   "source": [
    "os.getcwd()"
   ]
  },
  {
   "cell_type": "markdown",
   "id": "e90f828e",
   "metadata": {},
   "source": [
    "# constants"
   ]
  },
  {
   "cell_type": "code",
   "execution_count": null,
   "id": "a6348b1d",
   "metadata": {},
   "outputs": [],
   "source": [
    "from dataclasses import dataclass \n",
    "from churn_modelling.utils import load_yaml \n",
    "\n",
    "\n",
    "CONFIG = load_yaml(\"config/config.yaml\")\n",
    "\n",
    "@dataclass \n",
    "class DataIngestionConstants:\n",
    "    ROOT_DIR = CONFIG.ROOT_DIR \n",
    "    DATA_ROOT_DIR = CONFIG.DATA.ROOT_DIR\n",
    "    INGESTION_ROOT_DIR = CONFIG.DATA.INGESTION.ROOT_DIR \n",
    "    FEATURE_STORE_ROOT_DIR = CONFIG.DATA.INGESTION.FEATURE_STORE.ROOT_DIR\n",
    "    RAW_DATA_FILE_NAME = CONFIG.DATA.INGESTION.FEATURE_STORE.RAW_DATA\n",
    "    INGESTED_ROOT_DIR = CONFIG.DATA.INGESTION.INGESTED.ROOT_DIR\n",
    "    TRAIN_DATA_FILE_NAME = CONFIG.DATA.INGESTION.INGESTED.TRAIN_DATA\n",
    "    TEST_DATA_FILE_NAME = CONFIG.DATA.INGESTION.INGESTED.TEST_DATA\n",
    "    DATABASE_FILE_PATH = 'database/Bank.db'\n",
    "    DATABASE_TABLE_NAME = 'ChurnModelling'"
   ]
  },
  {
   "cell_type": "code",
   "execution_count": null,
   "id": "27693aa9",
   "metadata": {},
   "outputs": [],
   "source": [
    "print(f\"ROOT_DIR:{DataIngestionConstants.ROOT_DIR}\")\n",
    "print(f\"DATA_ROOT_DIR:{DataIngestionConstants.DATA_ROOT_DIR}\")\n",
    "print(f\"INGESTION_ROOT_DIR:{DataIngestionConstants.INGESTION_ROOT_DIR}\")\n",
    "print(f\"FEATURE_STORE_ROOT_DIR:{DataIngestionConstants.FEATURE_STORE_ROOT_DIR}\")\n",
    "print(f\"RAW_DATA_FILE_NAME:{DataIngestionConstants.RAW_DATA_FILE_NAME}\")\n",
    "print(f\"INGESTED_ROOT_DIR:{DataIngestionConstants.INGESTED_ROOT_DIR}\")\n",
    "print(f\"TRAIN_DATA_FILE_NAME:{DataIngestionConstants.TRAIN_DATA_FILE_NAME}\")\n",
    "print(f\"TEST_DATA_FILE_NAME:{DataIngestionConstants.TEST_DATA_FILE_NAME}\")\n",
    "print(f\"DATABASE_FILE_PATH:{DataIngestionConstants.DATABASE_FILE_PATH}\")\n",
    "print(f\"DATABASE_TABLE_NAME:{DataIngestionConstants.DATABASE_TABLE_NAME}\")"
   ]
  },
  {
   "cell_type": "markdown",
   "id": "5cb47f2f",
   "metadata": {},
   "source": [
    "# entity"
   ]
  },
  {
   "cell_type": "code",
   "execution_count": null,
   "id": "9d164e23",
   "metadata": {},
   "outputs": [],
   "source": [
    "from dataclasses import dataclass \n",
    "from typing import ClassVar\n",
    "from pathlib import Path \n",
    "\n",
    "@dataclass \n",
    "class DataIngestion:\n",
    "    ROOT_DIR_PATH: ClassVar[Path]\n",
    "    DATA_ROOT_DIR_PATH: ClassVar[Path]\n",
    "    INGESTION_ROOT_DIR_PATH: ClassVar[Path]\n",
    "    FEATURE_STORE_ROOT_DIR_PATH: ClassVar[Path]\n",
    "    RAW_DATA_FILE_PATH: ClassVar[Path]\n",
    "    INGESTED_ROOT_DIR_PATH: ClassVar[Path]\n",
    "    TRAIN_DATA_FILE_PATH: ClassVar[Path]\n",
    "    TEST_DATA_FILE_PATH: ClassVar[Path]\n",
    "    DATABASE_FILE_PATH: ClassVar[Path]\n",
    "    DATABASE_TABLE_NAME: ClassVar[str]"
   ]
  },
  {
   "cell_type": "markdown",
   "id": "c9f3420d",
   "metadata": {},
   "source": [
    "# configuration"
   ]
  },
  {
   "cell_type": "code",
   "execution_count": null,
   "id": "09793582",
   "metadata": {},
   "outputs": [],
   "source": [
    "from dataclasses import dataclass \n",
    "from pathlib import Path \n",
    "\n",
    "@dataclass \n",
    "class DataIngestionConfig:\n",
    "    ROOT_DIR_PATH = Path(DataIngestionConstants.ROOT_DIR)\n",
    "    DATA_ROOT_DIR_PATH = Path(os.path.join(ROOT_DIR_PATH, DataIngestionConstants.DATA_ROOT_DIR))\n",
    "    INGESTION_ROOT_DIR_PATH = Path(os.path.join(DATA_ROOT_DIR_PATH, DataIngestionConstants.INGESTION_ROOT_DIR))\n",
    "    FEATURE_STORE_ROOT_DIR_PATH = Path(os.path.join(INGESTION_ROOT_DIR_PATH, DataIngestionConstants.FEATURE_STORE_ROOT_DIR))\n",
    "    RAW_DATA_FILE_PATH = Path(os.path.join(FEATURE_STORE_ROOT_DIR_PATH, DataIngestionConstants.RAW_DATA_FILE_NAME))\n",
    "    INGESTED_ROOT_DIR_PATH = Path(os.path.join(INGESTION_ROOT_DIR_PATH, DataIngestionConstants.INGESTED_ROOT_DIR))\n",
    "    TRAIN_DATA_FILE_PATH = Path(os.path.join(INGESTED_ROOT_DIR_PATH, DataIngestionConstants.TRAIN_DATA_FILE_NAME))\n",
    "    TEST_DATA_FILE_PATH = Path(os.path.join(INGESTED_ROOT_DIR_PATH, DataIngestionConstants.TEST_DATA_FILE_NAME))\n",
    "    DATABASE_FILE_PATH = Path(DataIngestionConstants.DATABASE_FILE_PATH)\n",
    "    DATABASE_TABLE_NAME = DataIngestionConstants.DATABASE_TABLE_NAME"
   ]
  },
  {
   "cell_type": "code",
   "execution_count": null,
   "id": "0c4e4c39",
   "metadata": {},
   "outputs": [],
   "source": [
    "print(f\"ROOT_DIR_PATH:{DataIngestionConfig.ROOT_DIR_PATH}\")\n",
    "print(f\"DATA_ROOT_DIR_PATH:{DataIngestionConfig.DATA_ROOT_DIR_PATH}\")\n",
    "print(f\"INGESTION_ROOT_DIR_PATH:{DataIngestionConfig.INGESTION_ROOT_DIR_PATH}\")\n",
    "print(f\"FEATURE_STORE_ROOT_DIR_PATH:{DataIngestionConfig.FEATURE_STORE_ROOT_DIR_PATH}\")\n",
    "print(f\"RAW_DATA_FILE_PATH:{DataIngestionConfig.RAW_DATA_FILE_PATH}\")\n",
    "print(f\"INGESTED_ROOT_DIR_PATH:{DataIngestionConfig.INGESTED_ROOT_DIR_PATH}\")\n",
    "print(f\"TRAIN_DATA_FILE_PATH:{DataIngestionConfig.TRAIN_DATA_FILE_PATH}\")\n",
    "print(f\"TEST_DATA_FILE_PATH:{DataIngestionConfig.TEST_DATA_FILE_PATH}\")\n",
    "print(f\"DATABASE_FILE_PATH:{DataIngestionConfig.DATABASE_FILE_PATH}\")\n",
    "print(f\"DATABASE_TABLE_NAME:{DataIngestionConfig.DATABASE_TABLE_NAME}\")"
   ]
  },
  {
   "cell_type": "code",
   "execution_count": null,
   "id": "77e3b055",
   "metadata": {},
   "outputs": [],
   "source": [
    "print(f\"ROOT_DIR_PATH:{type(DataIngestionConfig.ROOT_DIR_PATH)}\")\n",
    "print(f\"DATA_ROOT_DIR_PATH:{type(DataIngestionConfig.DATA_ROOT_DIR_PATH)}\")\n",
    "print(f\"INGESTION_ROOT_DIR_PATH:{type(DataIngestionConfig.INGESTION_ROOT_DIR_PATH)}\")\n",
    "print(f\"FEATURE_STORE_ROOT_DIR_PATH:{type(DataIngestionConfig.FEATURE_STORE_ROOT_DIR_PATH)}\")\n",
    "print(f\"RAW_DATA_FILE_PATH:{type(DataIngestionConfig.RAW_DATA_FILE_PATH)}\")\n",
    "print(f\"INGESTED_ROOT_DIR_PATH:{type(DataIngestionConfig.INGESTED_ROOT_DIR_PATH)}\")\n",
    "print(f\"TRAIN_DATA_FILE_PATH:{type(DataIngestionConfig.TRAIN_DATA_FILE_PATH)}\")\n",
    "print(f\"TEST_DATA_FILE_PATH:{type(DataIngestionConfig.TEST_DATA_FILE_PATH)}\")\n",
    "print(f\"DATABASE_FILE_PATH:{type(DataIngestionConfig.DATABASE_FILE_PATH)}\")\n",
    "print(f\"DATABASE_TABLE_NAME:{type(DataIngestionConfig.DATABASE_TABLE_NAME)}\")"
   ]
  },
  {
   "cell_type": "markdown",
   "id": "266a62d2",
   "metadata": {},
   "source": [
    "# components"
   ]
  },
  {
   "cell_type": "code",
   "execution_count": null,
   "id": "5c1deeab",
   "metadata": {},
   "outputs": [],
   "source": [
    "from churn_modelling.exception import CustomException \n",
    "from sklearn.model_selection import train_test_split \n",
    "from churn_modelling.utils import create_dirs \n",
    "from botocore.exceptions import ClientError\n",
    "from churn_modelling.logger import logging \n",
    "from dataclasses import dataclass \n",
    "from dotenv import load_dotenv \n",
    "import pandas as pd \n",
    "import sys , sqlite3, boto3\n",
    "\n",
    "\n",
    "\n",
    "@dataclass \n",
    "class DataIngestionComponents:\n",
    "    data_ingestion_config:DataIngestion \n",
    "    \n",
    "    def data_collection(self):\n",
    "        try:\n",
    "            logging.info(\"In data_collection\") \n",
    "            # load .env \n",
    "            load_status = load_dotenv()\n",
    "            logging.info(f\".env load status {{{load_status}}}\")\n",
    "            # download db file from s3\n",
    "            try:\n",
    "                self.database_path = self.data_ingestion_config.DATABASE_FILE_PATH\n",
    "                # create directories for data if not avalilable\n",
    "                directories, _ = os.path.split(self.database_path)\n",
    "                os.makedirs(directories, exist_ok=True)\n",
    "                # create s3 client \n",
    "                self.s3_client = boto3.client('s3')\n",
    "                # download file \n",
    "                logging.info(\"downloading db file..........\")\n",
    "                self.s3_client.download_file(os.getenv('S3_BUCKET'), os.getenv('S3_BUCKET_OBJECT'), self.database_path)\n",
    "                logging.info(f\"download completed, saved file at {self.database_path}\")\n",
    "            except ClientError as e:\n",
    "                raise e\n",
    "            logging.info(\"Out data_collection\") \n",
    "        except Exception as e:\n",
    "            logging.exception(e)\n",
    "            raise CustomException(e, sys)\n",
    "        \n",
    "    def data_conversion(self):\n",
    "        try:\n",
    "            logging.info(\"In data_conversion\") \n",
    "            \n",
    "            self.table_name = self.data_ingestion_config.DATABASE_TABLE_NAME\n",
    "\n",
    "            # create connection with database\n",
    "            logging.info(f'connecting with database at {{{self.database_path}}}') \n",
    "            connection = sqlite3.connect(self.database_path)\n",
    "            cursor = connection.cursor()\n",
    "            logging.info(f'connection successful.')\n",
    "\n",
    "            # fetch all column names from the table\n",
    "            cursor.execute(\"SELECT * FROM ChurnModelling LIMIT 1\")\n",
    "            self.columns = [description[0] for description in cursor.description]\n",
    "            logging.info(f'fetched column names from database {{{self.columns}}}')\n",
    "\n",
    "            # fetch all data from the table\n",
    "            cursor.execute(f'SELECT * FROM {self.table_name}')\n",
    "            data = cursor.fetchall()\n",
    "            logging.info(f'fetched {len(data)} records from database.')\n",
    "\n",
    "            # convert sql data into dataframe\n",
    "            self.data = pd.DataFrame(data, columns=self.columns)\n",
    "            logging.info('successfully converted database fetched data into dataframe.')\n",
    "\n",
    "            # commit and close connection \n",
    "            connection.commit()\n",
    "            connection.close()\n",
    "            logging.info('database connection commited and closed.')\n",
    "\n",
    "            logging.info(\"Out data_conversion\") \n",
    "        except Exception as e:\n",
    "            logging.exception(e)\n",
    "            raise CustomException(e, sys)\n",
    "            \n",
    "    def data_splitting(self):\n",
    "        try:\n",
    "            logging.info(\"In data_splitting\") \n",
    "            \n",
    "            # split the data into train and test \n",
    "            train_data_array, test_data_array = train_test_split(self.data, test_size=0.33, random_state=42)\n",
    "            self.train_data = pd.DataFrame(train_data_array, columns=self.columns)\n",
    "            self.test_data = pd.DataFrame(test_data_array, columns=self.columns)\n",
    "\n",
    "            logging.info(\"Out data_splitting\") \n",
    "        except Exception as e:\n",
    "            logging.exception(e)\n",
    "            raise CustomException(e, sys)\n",
    "    \n",
    "    def save_data(self):\n",
    "        try:\n",
    "            logging.info(\"In save_data\") \n",
    "            \n",
    "            # save raw data \n",
    "            self.raw_data_path = self.data_ingestion_config.RAW_DATA_FILE_PATH \n",
    "            self.data.to_csv(self.raw_data_path, index=False)\n",
    "            logging.info(f'raw data saved at \\'{self.raw_data_path}\\'')\n",
    "            \n",
    "            # save train data \n",
    "            self.train_data_path = self.data_ingestion_config.TRAIN_DATA_FILE_PATH \n",
    "            self.train_data.to_csv(self.train_data_path, index=False)\n",
    "            logging.info(f'train data saved at \\'{self.train_data_path}\\'')\n",
    "            \n",
    "            # save test data \n",
    "            self.test_data_path = self.data_ingestion_config.TEST_DATA_FILE_PATH \n",
    "            self.test_data.to_csv(self.test_data_path, index=False)\n",
    "            logging.info(f'test data saved at {{{self.test_data}}}')\n",
    "\n",
    "            logging.info(\"Out save_data\") \n",
    "        except Exception as e:\n",
    "            logging.exception(e)\n",
    "            raise CustomException(e, sys)\n",
    "        \n",
    "    def main(self):\n",
    "        # create directories \n",
    "        create_dirs(self.data_ingestion_config.ROOT_DIR_PATH)\n",
    "        create_dirs(self.data_ingestion_config.DATA_ROOT_DIR_PATH)\n",
    "        create_dirs(self.data_ingestion_config.INGESTION_ROOT_DIR_PATH)\n",
    "        create_dirs(self.data_ingestion_config.FEATURE_STORE_ROOT_DIR_PATH)\n",
    "        create_dirs(self.data_ingestion_config.INGESTED_ROOT_DIR_PATH)\n",
    "\n",
    "        self.data_collection()\n",
    "        self.data_conversion()\n",
    "        self.data_splitting()\n",
    "        self.save_data()"
   ]
  },
  {
   "cell_type": "markdown",
   "id": "e1015ed7",
   "metadata": {},
   "source": [
    "# pipeline"
   ]
  },
  {
   "cell_type": "code",
   "execution_count": null,
   "id": "0f071c57",
   "metadata": {},
   "outputs": [],
   "source": [
    "from dataclasses import dataclass \n",
    "\n",
    "\n",
    "@dataclass \n",
    "class DataIngestionPipeline:\n",
    "    def run(self):\n",
    "        obj = DataIngestionComponents(DataIngestionConfig)\n",
    "        obj.main()\n",
    "\n",
    "\n",
    "if __name__ == '__main__':\n",
    "    data_ingestion_pipeline = DataIngestionPipeline()\n",
    "    data_ingestion_pipeline.run()\n",
    "\n"
   ]
  },
  {
   "cell_type": "code",
   "execution_count": null,
   "id": "68d7d12d",
   "metadata": {},
   "outputs": [],
   "source": []
  }
 ],
 "metadata": {
  "kernelspec": {
   "display_name": "Churn_Modelling",
   "language": "python",
   "name": "python3"
  },
  "language_info": {
   "codemirror_mode": {
    "name": "ipython",
    "version": 3
   },
   "file_extension": ".py",
   "mimetype": "text/x-python",
   "name": "python",
   "nbconvert_exporter": "python",
   "pygments_lexer": "ipython3",
   "version": "3.12.0"
  }
 },
 "nbformat": 4,
 "nbformat_minor": 5
}
