{
 "cells": [
  {
   "cell_type": "code",
   "execution_count": null,
   "id": "c1e6c215",
   "metadata": {},
   "outputs": [],
   "source": [
    "import os "
   ]
  },
  {
   "cell_type": "code",
   "execution_count": null,
   "id": "22fb66d6",
   "metadata": {},
   "outputs": [],
   "source": [
    "os.getcwd()"
   ]
  },
  {
   "cell_type": "code",
   "execution_count": null,
   "id": "7fd55e40",
   "metadata": {},
   "outputs": [],
   "source": [
    "os.chdir(\"..\")"
   ]
  },
  {
   "cell_type": "code",
   "execution_count": null,
   "id": "098e22d3",
   "metadata": {},
   "outputs": [],
   "source": [
    "os.getcwd()"
   ]
  },
  {
   "cell_type": "markdown",
   "id": "10f3e113",
   "metadata": {},
   "source": [
    "# constants"
   ]
  },
  {
   "cell_type": "code",
   "execution_count": null,
   "id": "932dd7bb",
   "metadata": {},
   "outputs": [],
   "source": [
    "from dataclasses import dataclass \n",
    "from churn_modelling.utils import load_yaml \n",
    "\n",
    "\n",
    "CONFIG = load_yaml(\"config/config.yaml\")\n",
    "\n",
    "@dataclass \n",
    "class ModelPredictionConstants: \n",
    "    ROOT_DIR = CONFIG.MODEL.PREDICTION.ROOT_DIR\n",
    "    FILE_EXT = CONFIG.MODEL.PREDICTION.FILE_EXT \n",
    "    BUCKET = os.getenv(\"S3_BUCKET\")\n",
    "    OBJECT = os.getenv(\"S3_BUCKET_PREDICTION_OBJECT\")"
   ]
  },
  {
   "cell_type": "code",
   "execution_count": null,
   "id": "08cea8a2",
   "metadata": {},
   "outputs": [],
   "source": [
    "print(f\"ROOT_DIR:{ModelPredictionConstants.ROOT_DIR}\")\n",
    "print(f\"FILE_EXT:{ModelPredictionConstants.FILE_EXT}\")\n",
    "print(f\"BUCKET:{ModelPredictionConstants.BUCKET}\")\n",
    "print(f\"OBJECT:{ModelPredictionConstants.OBJECT}\")"
   ]
  },
  {
   "cell_type": "markdown",
   "id": "9c592627",
   "metadata": {},
   "source": [
    "# entity"
   ]
  },
  {
   "cell_type": "code",
   "execution_count": null,
   "id": "44f7d72c",
   "metadata": {},
   "outputs": [],
   "source": [
    "from dataclasses import dataclass \n",
    "from typing import ClassVar \n",
    "from pathlib import Path \n",
    "import os \n",
    "\n",
    "\n",
    "@dataclass \n",
    "class ModelPrediction:\n",
    "    ROOT_DIR_PATH:ClassVar[Path]\n",
    "    FILE_PATH:ClassVar[Path]\n",
    "    BUCKET:ClassVar[str]\n",
    "    OBJECT:ClassVar[str]"
   ]
  },
  {
   "cell_type": "markdown",
   "id": "9c6dbf0f",
   "metadata": {},
   "source": [
    "# configuration"
   ]
  },
  {
   "cell_type": "code",
   "execution_count": null,
   "id": "9a84d09c",
   "metadata": {},
   "outputs": [],
   "source": [
    "from dataclasses import dataclass \n",
    "from pathlib import Path \n",
    "import os \n",
    "\n",
    "\n",
    "@dataclass \n",
    "class ModelPredictionConfig:\n",
    "    ROOT_DIR_PATH = Path(ModelPredictionConstants.ROOT_DIR)\n",
    "    FILE_PATH = Path(os.path.join(ROOT_DIR_PATH, ModelPredictionConstants.FILE_EXT))\n",
    "    BUCKET = ModelPredictionConstants.BUCKET\n",
    "    OBJECT = ModelPredictionConstants.OBJECT"
   ]
  },
  {
   "cell_type": "code",
   "execution_count": null,
   "id": "eb8f2a36",
   "metadata": {},
   "outputs": [],
   "source": [
    "print(f\"ROOT_DIR_PATH:{ModelPredictionConfig.ROOT_DIR_PATH}\")\n",
    "print(f\"FILE_PATH:{ModelPredictionConfig.FILE_PATH}\")\n",
    "print(f\"BUCKET:{ModelPredictionConfig.BUCKET}\")\n",
    "print(f\"OBJECT:{ModelPredictionConfig.OBJECT}\")"
   ]
  },
  {
   "cell_type": "code",
   "execution_count": null,
   "id": "599ed3a4",
   "metadata": {},
   "outputs": [],
   "source": [
    "print(f\"ROOT_DIR_PATH:{type(ModelPredictionConfig.ROOT_DIR_PATH)}\")\n",
    "print(f\"FILE_PATH:{type(ModelPredictionConfig.FILE_PATH)}\")\n",
    "print(f\"BUCKET:{type(ModelPredictionConfig.BUCKET)}\")\n",
    "print(f\"OBJECT:{type(ModelPredictionConfig.OBJECT)}\")"
   ]
  },
  {
   "cell_type": "code",
   "execution_count": null,
   "id": "75905c22",
   "metadata": {},
   "outputs": [],
   "source": [
    "os.path.split(\"artifacts/model/predictions/.json\")"
   ]
  },
  {
   "cell_type": "markdown",
   "id": "2d3306ef",
   "metadata": {},
   "source": [
    "# components"
   ]
  },
  {
   "cell_type": "code",
   "execution_count": null,
   "id": "46ab5756",
   "metadata": {},
   "outputs": [],
   "source": [
    "from churn_modelling.utils import dump_json, load_json, create_dirs\n",
    "from churn_modelling.exception import CustomException \n",
    "from sklearn.compose import ColumnTransformer\n",
    "from churn_modelling.logger import logging\n",
    "from churn_modelling.cloud import S3_Cloud  \n",
    "from skorch import NeuralNetClassifier\n",
    "from dataclasses import dataclass \n",
    "from dotenv import load_dotenv\n",
    "from datetime import datetime\n",
    "from pathlib import Path \n",
    "import numpy as np\n",
    "import pandas as pd \n",
    "import sys, os \n",
    "\n",
    "\n",
    "@dataclass \n",
    "class ModelPredictionComponents:\n",
    "    model_prediction_config:ModelPrediction \n",
    "\n",
    "    def predict(self):\n",
    "        try:\n",
    "            logging.info(\"In predict\")\n",
    "\n",
    "            # transform data and perform prediction\n",
    "            columns = [name.split('__')[1] for name in self.preprocessor.get_feature_names_out()]\n",
    "            transformed_data = self.preprocessor.transform(self.data)\n",
    "            model_input = pd.DataFrame(transformed_data, columns=columns).astype(np.float32)\n",
    "            self.prediction = self.model.predict(model_input)[0]\n",
    "\n",
    "            logging.info(\"Out predict\")\n",
    "        except Exception as e:\n",
    "            logging.exception(e)\n",
    "            raise CustomException(e, sys) \n",
    "        \n",
    "    def save_outputs(self, time:datetime):\n",
    "        try:\n",
    "            logging.info(\"In save_outputs\")\n",
    "            time_stamp = datetime.now().strftime(\"%d_%m_%Y\")\n",
    "            dir_path, file_name = os.path.split(self.model_prediction_config.FILE_PATH)\n",
    "            self.output_file_path = Path(os.path.join(dir_path, time_stamp + file_name))\n",
    "            \n",
    "            # load prevous predictions from cloud if not available in local \n",
    "            if not os.path.exists(self.output_file_path):\n",
    "                self.pull_from_cloud()\n",
    "            \n",
    "            output = {\n",
    "                time:{\n",
    "                    \"input\":self.data.values.tolist(),\n",
    "                    \"output\":self.prediction\n",
    "                }\n",
    "            }\n",
    "\n",
    "            # load prevoiusly saved data if available \n",
    "            if os.path.exists(self.output_file_path):\n",
    "                output.update(load_json(self.output_file_path))\n",
    "\n",
    "            # save data into file \n",
    "            dump_json(output, self.output_file_path)\n",
    "            logging.info(f\"saved outputs at {{{self.output_file_path}}}\")\n",
    "\n",
    "            logging.info(\"Out save_outputs\")\n",
    "        except Exception as e:\n",
    "            logging.exception(e)\n",
    "            raise CustomException(e, sys) \n",
    "        \n",
    "    def push_to_cloud(self):\n",
    "        try:\n",
    "            logging.info(\"In push_to_cloud\") \n",
    "            load_dotenv()\n",
    "\n",
    "            cloud=S3_Cloud(\n",
    "                bucket=os.getenv(\"S3_BUCKET\"),\n",
    "                object_name=os.getenv(\"S3_BUCKET_PREDICTION_OBJECT\")\n",
    "            )\n",
    "            status = cloud.upload_file(self.output_file_path)\n",
    "            logging.info(f\"push status {{{status}}}\")\n",
    "            logging.info(\"Out push_to_cloud\")\n",
    "        except Exception as e:\n",
    "            raise CustomException(e, sys)\n",
    "        \n",
    "    def pull_from_cloud(self) -> bool:\n",
    "        try:\n",
    "            logging.info(\"In pull_from_cloud\") \n",
    "            load_dotenv()\n",
    "            \n",
    "            cloud=S3_Cloud(\n",
    "                bucket=self.model_prediction_config.BUCKET,\n",
    "                object_name=self.model_prediction_config.OBJECT\n",
    "            )\n",
    "            status = cloud.download_file(self.output_file_path)\n",
    "            logging.info(f\"push status {{{status}}}\")\n",
    "            logging.info(\"Out push_to_cloud\")\n",
    "        except:\n",
    "            pass \n",
    "        \n",
    "    def main(self, model:NeuralNetClassifier, preprocessor:ColumnTransformer, data:pd.DataFrame, time:datetime) -> np.int64:\n",
    "        # create required directories\n",
    "        create_dirs(self.model_prediction_config.ROOT_DIR_PATH)\n",
    "\n",
    "        self.model = model\n",
    "        self.preprocessor = preprocessor\n",
    "        self.data = data\n",
    "        self.predict()\n",
    "        self.save_outputs(time)\n",
    "        self.push_to_cloud()\n",
    "\n",
    "        return self.prediction "
   ]
  },
  {
   "cell_type": "markdown",
   "id": "523a27c1",
   "metadata": {},
   "source": [
    "# pipeline"
   ]
  },
  {
   "cell_type": "code",
   "execution_count": null,
   "id": "4dd8435b",
   "metadata": {},
   "outputs": [],
   "source": [
    "from sklearn.compose import ColumnTransformer\n",
    "from skorch import NeuralNetClassifier\n",
    "from dataclasses import dataclass \n",
    "import pandas as pd \n",
    "import numpy as np \n",
    "\n",
    "\n",
    "@dataclass \n",
    "class PredictionPipeline:\n",
    "    def run(self, model:NeuralNetClassifier, preprocessor:ColumnTransformer, data:pd.DataFrame) -> np.int64:\n",
    "        obj = ModelPredictionComponents(ModelPredictionConfig)\n",
    "        return obj.main(model, preprocessor, data)"
   ]
  },
  {
   "cell_type": "code",
   "execution_count": null,
   "id": "4e993f0e",
   "metadata": {},
   "outputs": [],
   "source": []
  }
 ],
 "metadata": {
  "kernelspec": {
   "display_name": "Churn_Modelling",
   "language": "python",
   "name": "python3"
  },
  "language_info": {
   "codemirror_mode": {
    "name": "ipython",
    "version": 3
   },
   "file_extension": ".py",
   "mimetype": "text/x-python",
   "name": "python",
   "nbconvert_exporter": "python",
   "pygments_lexer": "ipython3",
   "version": "3.12.0"
  }
 },
 "nbformat": 4,
 "nbformat_minor": 5
}
