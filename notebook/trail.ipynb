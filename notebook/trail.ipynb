{
 "cells": [
  {
   "cell_type": "code",
   "execution_count": null,
   "id": "9d7b4f8e",
   "metadata": {},
   "outputs": [],
   "source": [
    "import pandas as pd\n",
    "from copy import deepcopy "
   ]
  },
  {
   "cell_type": "code",
   "execution_count": null,
   "id": "3b94193e",
   "metadata": {},
   "outputs": [],
   "source": [
    "data = pd.read_csv(\"D:/MyDatasets/ChurnModelling/data.csv\")\n",
    "df = deepcopy(data)\n",
    "data.shape, df.shape "
   ]
  },
  {
   "cell_type": "code",
   "execution_count": null,
   "id": "e5de9bf4",
   "metadata": {},
   "outputs": [],
   "source": [
    "df.head()"
   ]
  },
  {
   "cell_type": "code",
   "execution_count": null,
   "id": "796e8318",
   "metadata": {},
   "outputs": [],
   "source": [
    "unnecessory_features = [\"RowNumber\", \"CustomerId\", \"Surname\"] \n",
    "unnecessory_features"
   ]
  },
  {
   "cell_type": "code",
   "execution_count": null,
   "id": "3345fb95",
   "metadata": {},
   "outputs": [],
   "source": [
    "numerical_features = [\n",
    "    feature for feature in df.columns if df[feature].dtype != \"O\" and len(df[feature].unique()) > 15 and feature not in unnecessory_features\n",
    "    ]\n",
    "categorical_features = [\n",
    "    feature for feature in df.columns if feature not in numerical_features and feature not in unnecessory_features\n",
    "    ]\n",
    "print(f\"numerical:{numerical_features}, count:{len(numerical_features)}\")\n",
    "print(f\"categorical:{categorical_features}, count:{len(categorical_features)}\")"
   ]
  },
  {
   "cell_type": "code",
   "execution_count": null,
   "id": "662f436f",
   "metadata": {},
   "outputs": [],
   "source": [
    "[print(feature) for feature in categorical_features if df[feature].dtype == \"O\"]\n",
    "print()"
   ]
  },
  {
   "cell_type": "code",
   "execution_count": null,
   "id": "6d43c97b",
   "metadata": {},
   "outputs": [],
   "source": [
    "df[\"Geography\"].unique()"
   ]
  },
  {
   "cell_type": "code",
   "execution_count": null,
   "id": "48573f55",
   "metadata": {},
   "outputs": [],
   "source": [
    "df[\"Gender\"].unique()"
   ]
  },
  {
   "cell_type": "code",
   "execution_count": null,
   "id": "be47f230",
   "metadata": {},
   "outputs": [],
   "source": [
    "print(f'''\n",
    "{1},\n",
    "{2},\n",
    "{3}\n",
    "''')"
   ]
  },
  {
   "cell_type": "code",
   "execution_count": null,
   "id": "cb32866d",
   "metadata": {},
   "outputs": [],
   "source": [
    "dictionary = {\"key1\":[\"str1\", \"str2\", \"str3\"], \"key2\":[\"str1\", \"str2\"]}\n",
    "dictionary"
   ]
  },
  {
   "cell_type": "code",
   "execution_count": null,
   "id": "459bfe78",
   "metadata": {},
   "outputs": [],
   "source": [
    "for key, value in dictionary.items():\n",
    "    base_val = \"\"\n",
    "    count = 0\n",
    "    for val in value:\n",
    "        if count == 0:\n",
    "            base_val = val\n",
    "            count+=1\n",
    "        else:\n",
    "            base_val = base_val + \" \" + val \n",
    "    print(key+\" \"+base_val+\",\")"
   ]
  },
  {
   "cell_type": "code",
   "execution_count": null,
   "id": "8e21424c",
   "metadata": {},
   "outputs": [],
   "source": [
    "df = pd.DataFrame([[1, 2,3, 4, 5],\n",
    "                   [6, 7, 8,9, 10],\n",
    "                   [11, 12, 13, 14, 15]], columns=['a', 'b', 'c', 'd', 'e'])\n",
    "df"
   ]
  },
  {
   "cell_type": "code",
   "execution_count": null,
   "id": "16b9363b",
   "metadata": {},
   "outputs": [],
   "source": [
    "import numpy as np"
   ]
  },
  {
   "cell_type": "code",
   "execution_count": null,
   "id": "d263a950",
   "metadata": {},
   "outputs": [],
   "source": [
    "list(zip(*[df[col] for col in df.columns]))"
   ]
  },
  {
   "cell_type": "code",
   "execution_count": null,
   "id": "bb9d7a56",
   "metadata": {},
   "outputs": [],
   "source": [
    "tuple(df.columns)"
   ]
  },
  {
   "cell_type": "code",
   "execution_count": null,
   "id": "af351ef6",
   "metadata": {},
   "outputs": [],
   "source": [
    "{col:pd.read_csv(\"D:/MyDatasets/ChurnModelling/data.csv\")[col].dtype for col in pd.read_csv(\"D:/MyDatasets/ChurnModelling/data.csv\").columns}"
   ]
  },
  {
   "cell_type": "code",
   "execution_count": null,
   "id": "2e104bf8",
   "metadata": {},
   "outputs": [],
   "source": [
    "import boto3, os\n",
    "from dotenv import load_dotenv"
   ]
  },
  {
   "cell_type": "code",
   "execution_count": null,
   "id": "db62c490",
   "metadata": {},
   "outputs": [],
   "source": [
    "load_dotenv()"
   ]
  },
  {
   "cell_type": "code",
   "execution_count": null,
   "id": "06a38ab2",
   "metadata": {},
   "outputs": [],
   "source": [
    "s3_client = boto3.client('s3')\n",
    "s3_client.download_file(os.getenv('S3_BUCKET'), os.getenv('S3_BUCKET_OBJECT'), os.getenv('DATABASE_FILE_PATH'))"
   ]
  },
  {
   "cell_type": "code",
   "execution_count": null,
   "id": "653c50bd",
   "metadata": {},
   "outputs": [],
   "source": [
    "os.getcwd()"
   ]
  },
  {
   "cell_type": "code",
   "execution_count": null,
   "id": "4bc0de2a",
   "metadata": {},
   "outputs": [],
   "source": [
    "import pandas as pd "
   ]
  },
  {
   "cell_type": "code",
   "execution_count": null,
   "id": "f758ee49",
   "metadata": {},
   "outputs": [],
   "source": [
    "data = [\n",
    "    (1, 'Alice', 30, 'HR'),\n",
    "    (2, 'Bob', 25, 'Engineering'),\n",
    "    (3, 'Charlie', 28, 'Sales'),\n",
    "    (4, 'David', 35, 'Marketing'),\n",
    "    (5, 'Eve', 22, 'HR')\n",
    "]\n",
    "data"
   ]
  },
  {
   "cell_type": "code",
   "execution_count": null,
   "id": "bfcdf44c",
   "metadata": {},
   "outputs": [],
   "source": [
    "pd.DataFrame(data, columns=[\"id\", 'name', 'age', 'desig'])"
   ]
  },
  {
   "cell_type": "code",
   "execution_count": null,
   "id": "e2a1eefd",
   "metadata": {},
   "outputs": [],
   "source": [
    "import sqlite3\n",
    "\n",
    "conn = sqlite3.connect(\"database/Bank.db\")\n",
    "cursor = conn.cursor()\n",
    "\n",
    "cursor.execute(\"SELECT * FROM ChurnModelling LIMIT 1\")\n",
    "column_names = [description[0] for description in cursor.description]"
   ]
  },
  {
   "cell_type": "code",
   "execution_count": null,
   "id": "99e3de8e",
   "metadata": {},
   "outputs": [],
   "source": [
    "column_names"
   ]
  },
  {
   "cell_type": "code",
   "execution_count": null,
   "id": "35383581",
   "metadata": {},
   "outputs": [],
   "source": [
    "import os "
   ]
  },
  {
   "cell_type": "code",
   "execution_count": null,
   "id": "755733ae",
   "metadata": {},
   "outputs": [],
   "source": [
    "os.path.split('database/folder/new folder/Bank.db')"
   ]
  },
  {
   "cell_type": "code",
   "execution_count": null,
   "id": "b13f1965",
   "metadata": {},
   "outputs": [],
   "source": [
    "df.columns"
   ]
  },
  {
   "cell_type": "code",
   "execution_count": null,
   "id": "47f7d74e",
   "metadata": {},
   "outputs": [],
   "source": [
    "df['EstimatedSalary'].mean()"
   ]
  },
  {
   "cell_type": "code",
   "execution_count": null,
   "id": "19bb7321",
   "metadata": {},
   "outputs": [],
   "source": [
    "df['NumOfProducts'].value_counts()"
   ]
  },
  {
   "cell_type": "code",
   "execution_count": null,
   "id": "23cbaac1",
   "metadata": {},
   "outputs": [],
   "source": [
    "df['NumOfProducts'].mode()[0]"
   ]
  },
  {
   "cell_type": "code",
   "execution_count": null,
   "id": "bab98192",
   "metadata": {},
   "outputs": [],
   "source": [
    "d = {\"key\":\"value\"}\n",
    "e = {\"KEY\":\"VALUE\"}\n",
    "d, e"
   ]
  },
  {
   "cell_type": "code",
   "execution_count": null,
   "id": "5138c2a9",
   "metadata": {},
   "outputs": [],
   "source": [
    "d.update(e)"
   ]
  },
  {
   "cell_type": "code",
   "execution_count": null,
   "id": "7bfd511a",
   "metadata": {},
   "outputs": [],
   "source": [
    "d"
   ]
  },
  {
   "cell_type": "code",
   "execution_count": null,
   "id": "06a8ad39",
   "metadata": {},
   "outputs": [],
   "source": [
    "string = 'torch.optim.adam.Adam'\n",
    "string"
   ]
  },
  {
   "cell_type": "code",
   "execution_count": null,
   "id": "5557f3c7",
   "metadata": {},
   "outputs": [],
   "source": [
    "string.rsplit(\".\", 1)"
   ]
  },
  {
   "cell_type": "code",
   "execution_count": null,
   "id": "ecf69353",
   "metadata": {},
   "outputs": [],
   "source": [
    "from churn_modelling.utils.model.functions import get_NeuralNetClassifier\n",
    "from churn_modelling.utils import load_json "
   ]
  },
  {
   "cell_type": "code",
   "execution_count": null,
   "id": "e873c37c",
   "metadata": {},
   "outputs": [],
   "source": [
    "params = load_json(\"D:/Projects/Projects/Churn_Modelling/artifacts/model/train/best_params.json\")\n",
    "params"
   ]
  },
  {
   "cell_type": "code",
   "execution_count": null,
   "id": "695dbf9f",
   "metadata": {},
   "outputs": [],
   "source": [
    "model = get_NeuralNetClassifier(**params)\n",
    "model"
   ]
  },
  {
   "cell_type": "code",
   "execution_count": null,
   "id": "503abcde",
   "metadata": {},
   "outputs": [],
   "source": [
    "model.initialize()"
   ]
  },
  {
   "cell_type": "code",
   "execution_count": null,
   "id": "c7c0012a",
   "metadata": {},
   "outputs": [],
   "source": [
    "model.load_params(\n",
    "    f_params=\"D:/Projects/Projects/Churn_Modelling/artifacts/model/train/estimator_weights.pkl\",\n",
    "    f_optimizer=\"D:/Projects/Projects/Churn_Modelling/artifacts/model/train/optimizer.pkl\",\n",
    "    f_history=\"D:/Projects/Projects/Churn_Modelling/artifacts/model/train/history.json\"\n",
    ")"
   ]
  },
  {
   "cell_type": "code",
   "execution_count": null,
   "id": "568078b3",
   "metadata": {},
   "outputs": [],
   "source": [
    "import torch"
   ]
  },
  {
   "cell_type": "code",
   "execution_count": null,
   "id": "6ee16593",
   "metadata": {},
   "outputs": [],
   "source": [
    "inp = torch.tensor([[-0.531500664467624,-0.6680241808431666,0.3138083063985489,-0.9893334019115257,0.0,1.0,0.0,0.0,1.0,3.0,2.0,0.0,0.0]])\n",
    "inp"
   ]
  },
  {
   "cell_type": "code",
   "execution_count": null,
   "id": "ba0e6d68",
   "metadata": {},
   "outputs": [],
   "source": [
    "output = 0.0\n",
    "print(model.predict(inp), model.predict_proba(inp), output)"
   ]
  },
  {
   "cell_type": "code",
   "execution_count": null,
   "id": "b06e25a8",
   "metadata": {},
   "outputs": [],
   "source": [
    "print(model.predict(inp)[0])"
   ]
  },
  {
   "cell_type": "code",
   "execution_count": null,
   "id": "42cfcc5c",
   "metadata": {},
   "outputs": [],
   "source": [
    "import pandas as pd"
   ]
  },
  {
   "cell_type": "code",
   "execution_count": null,
   "id": "5c564352",
   "metadata": {},
   "outputs": [],
   "source": [
    "pd.DataFrame([[1, 2, 3]], columns=['a', 'b', 'c'])"
   ]
  },
  {
   "cell_type": "code",
   "execution_count": null,
   "id": "16b01b83",
   "metadata": {},
   "outputs": [],
   "source": [
    "import os \n",
    "from pathlib import Path "
   ]
  },
  {
   "cell_type": "code",
   "execution_count": null,
   "id": "daa6ad00",
   "metadata": {},
   "outputs": [],
   "source": [
    "os.chdir(\"..\")"
   ]
  },
  {
   "cell_type": "code",
   "execution_count": null,
   "id": "52e5bc28",
   "metadata": {},
   "outputs": [],
   "source": [
    "file_path = Path(\"artifacts/model/predictions/24_06_2025.json\")\n",
    "if os.path.exists(file_path):\n",
    "    print(True)"
   ]
  },
  {
   "cell_type": "code",
   "execution_count": null,
   "id": "5a6e6958",
   "metadata": {},
   "outputs": [],
   "source": [
    "output = {'time': '10:47:25', 'input': [[1235, 'Germany', 'Male', 34, 6, 3452633, 2, 1, 1, 54633]], 'output': '1'}\n",
    "output"
   ]
  },
  {
   "cell_type": "code",
   "execution_count": null,
   "id": "1e741bc0",
   "metadata": {},
   "outputs": [],
   "source": [
    "previous_data = {'time': '11:47:25', 'input': [[1235, 'Germany', 'Male', 34, 6, 3452633, 2, 1, 1, 54633]], 'output': '1'}\n",
    "previous_data"
   ]
  },
  {
   "cell_type": "code",
   "execution_count": null,
   "id": "56a615ab",
   "metadata": {},
   "outputs": [],
   "source": [
    "merged = {**previous_data, **output}\n",
    "merged"
   ]
  },
  {
   "cell_type": "code",
   "execution_count": null,
   "id": "7ca45acd",
   "metadata": {},
   "outputs": [],
   "source": [
    "output"
   ]
  },
  {
   "cell_type": "code",
   "execution_count": null,
   "id": "8f239a22",
   "metadata": {},
   "outputs": [],
   "source": [
    "dict1 = {'a': 1, 'b': 2}\n",
    "dict2 = {'c': 3, 'd': 4}\n",
    "\n",
    "# Merge using unpacking\n",
    "merged_dict = {**dict1, **dict2}\n",
    "print(merged_dict)"
   ]
  },
  {
   "cell_type": "code",
   "execution_count": null,
   "id": "2f4b9a99",
   "metadata": {},
   "outputs": [],
   "source": [
    "dict1.update(dict2)"
   ]
  },
  {
   "cell_type": "code",
   "execution_count": null,
   "id": "90b04b40",
   "metadata": {},
   "outputs": [],
   "source": [
    "dict1"
   ]
  },
  {
   "cell_type": "code",
   "execution_count": null,
   "id": "0b20d268",
   "metadata": {},
   "outputs": [],
   "source": [
    "if os.path.exists(\"F\"):\n",
    "    os.removedirs(\"F\")"
   ]
  },
  {
   "cell_type": "code",
   "execution_count": null,
   "id": "cce6baf5",
   "metadata": {},
   "outputs": [],
   "source": [
    "import os \n",
    "from pathlib import Path "
   ]
  },
  {
   "cell_type": "code",
   "execution_count": null,
   "id": "41966fa4",
   "metadata": {},
   "outputs": [],
   "source": [
    "path = Path(\"artifacts/model/predictions/24_06_2025.json\")\n",
    "path "
   ]
  },
  {
   "cell_type": "code",
   "execution_count": null,
   "id": "c80af7df",
   "metadata": {},
   "outputs": [],
   "source": [
    "dir_path, file_name = os.path.split(path)\n",
    "dir_path, file_name"
   ]
  },
  {
   "cell_type": "code",
   "execution_count": null,
   "id": "5bf690a4",
   "metadata": {},
   "outputs": [],
   "source": [
    "os.sep"
   ]
  },
  {
   "cell_type": "code",
   "execution_count": null,
   "id": "64cda44d",
   "metadata": {},
   "outputs": [],
   "source": [
    "dir_path.split(os.sep)"
   ]
  },
  {
   "cell_type": "code",
   "execution_count": null,
   "id": "f4e4a842",
   "metadata": {},
   "outputs": [],
   "source": [
    "dir_path.split(os.sep)[0]"
   ]
  },
  {
   "cell_type": "code",
   "execution_count": null,
   "id": "65b914fe",
   "metadata": {},
   "outputs": [],
   "source": [
    "from churn_modelling.configuration import ModelTrainerConfig "
   ]
  },
  {
   "cell_type": "code",
   "execution_count": null,
   "id": "e3297ddb",
   "metadata": {},
   "outputs": [],
   "source": [
    "def func():\n",
    "    print(\"function executed\")"
   ]
  },
  {
   "cell_type": "code",
   "execution_count": null,
   "id": "c70d49d1",
   "metadata": {},
   "outputs": [],
   "source": [
    "if not os.path.exists(ModelTrainerConfig.ROOT_DIR_PATH):\n",
    "        func()"
   ]
  },
  {
   "cell_type": "code",
   "execution_count": null,
   "id": "b712cc7f",
   "metadata": {},
   "outputs": [],
   "source": []
  }
 ],
 "metadata": {
  "kernelspec": {
   "display_name": "Churn_Modelling",
   "language": "python",
   "name": "python3"
  },
  "language_info": {
   "codemirror_mode": {
    "name": "ipython",
    "version": 3
   },
   "file_extension": ".py",
   "mimetype": "text/x-python",
   "name": "python",
   "nbconvert_exporter": "python",
   "pygments_lexer": "ipython3",
   "version": "3.12.0"
  }
 },
 "nbformat": 4,
 "nbformat_minor": 5
}
