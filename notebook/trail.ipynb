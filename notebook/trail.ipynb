{
 "cells": [
  {
   "cell_type": "code",
   "execution_count": null,
   "id": "9d7b4f8e",
   "metadata": {},
   "outputs": [],
   "source": [
    "import pandas as pd\n",
    "from copy import deepcopy "
   ]
  },
  {
   "cell_type": "code",
   "execution_count": null,
   "id": "3b94193e",
   "metadata": {},
   "outputs": [],
   "source": [
    "data = pd.read_csv(\"D:/MyDatasets/ChurnModelling/data.csv\")\n",
    "df = deepcopy(data)\n",
    "data.shape, df.shape "
   ]
  },
  {
   "cell_type": "code",
   "execution_count": null,
   "id": "e5de9bf4",
   "metadata": {},
   "outputs": [],
   "source": [
    "df.head()"
   ]
  },
  {
   "cell_type": "code",
   "execution_count": null,
   "id": "796e8318",
   "metadata": {},
   "outputs": [],
   "source": [
    "unnecessory_features = [\"RowNumber\", \"CustomerId\", \"Surname\"] \n",
    "unnecessory_features"
   ]
  },
  {
   "cell_type": "code",
   "execution_count": null,
   "id": "3345fb95",
   "metadata": {},
   "outputs": [],
   "source": [
    "numerical_features = [\n",
    "    feature for feature in df.columns if df[feature].dtype != \"O\" and len(df[feature].unique()) > 15 and feature not in unnecessory_features\n",
    "    ]\n",
    "categorical_features = [\n",
    "    feature for feature in df.columns if feature not in numerical_features and feature not in unnecessory_features\n",
    "    ]\n",
    "print(f\"numerical:{numerical_features}, count:{len(numerical_features)}\")\n",
    "print(f\"categorical:{categorical_features}, count:{len(categorical_features)}\")"
   ]
  },
  {
   "cell_type": "code",
   "execution_count": null,
   "id": "662f436f",
   "metadata": {},
   "outputs": [],
   "source": [
    "[print(feature) for feature in categorical_features if df[feature].dtype == \"O\"]\n",
    "print()"
   ]
  },
  {
   "cell_type": "code",
   "execution_count": null,
   "id": "6d43c97b",
   "metadata": {},
   "outputs": [],
   "source": [
    "df[\"Geography\"].unique()"
   ]
  },
  {
   "cell_type": "code",
   "execution_count": null,
   "id": "48573f55",
   "metadata": {},
   "outputs": [],
   "source": [
    "df[\"Gender\"].unique()"
   ]
  },
  {
   "cell_type": "code",
   "execution_count": null,
   "id": "be47f230",
   "metadata": {},
   "outputs": [],
   "source": [
    "print(f'''\n",
    "{1},\n",
    "{2},\n",
    "{3}\n",
    "''')"
   ]
  },
  {
   "cell_type": "code",
   "execution_count": null,
   "id": "cb32866d",
   "metadata": {},
   "outputs": [],
   "source": [
    "dictionary = {\"key1\":[\"str1\", \"str2\", \"str3\"], \"key2\":[\"str1\", \"str2\"]}\n",
    "dictionary"
   ]
  },
  {
   "cell_type": "code",
   "execution_count": null,
   "id": "459bfe78",
   "metadata": {},
   "outputs": [],
   "source": [
    "for key, value in dictionary.items():\n",
    "    base_val = \"\"\n",
    "    count = 0\n",
    "    for val in value:\n",
    "        if count == 0:\n",
    "            base_val = val\n",
    "            count+=1\n",
    "        else:\n",
    "            base_val = base_val + \" \" + val \n",
    "    print(key+\" \"+base_val+\",\")"
   ]
  },
  {
   "cell_type": "code",
   "execution_count": null,
   "id": "8e21424c",
   "metadata": {},
   "outputs": [],
   "source": [
    "df = pd.DataFrame([[1, 2,3, 4, 5],\n",
    "                   [6, 7, 8,9, 10],\n",
    "                   [11, 12, 13, 14, 15]], columns=['a', 'b', 'c', 'd', 'e'])\n",
    "df"
   ]
  },
  {
   "cell_type": "code",
   "execution_count": null,
   "id": "16b9363b",
   "metadata": {},
   "outputs": [],
   "source": [
    "import numpy as np"
   ]
  },
  {
   "cell_type": "code",
   "execution_count": null,
   "id": "d263a950",
   "metadata": {},
   "outputs": [],
   "source": [
    "list(zip(*[df[col] for col in df.columns]))"
   ]
  },
  {
   "cell_type": "code",
   "execution_count": null,
   "id": "bb9d7a56",
   "metadata": {},
   "outputs": [],
   "source": [
    "tuple(df.columns)"
   ]
  },
  {
   "cell_type": "code",
   "execution_count": null,
   "id": "af351ef6",
   "metadata": {},
   "outputs": [],
   "source": [
    "{col:pd.read_csv(\"D:/MyDatasets/ChurnModelling/data.csv\")[col].dtype for col in pd.read_csv(\"D:/MyDatasets/ChurnModelling/data.csv\").columns}"
   ]
  },
  {
   "cell_type": "code",
   "execution_count": null,
   "id": "2e104bf8",
   "metadata": {},
   "outputs": [],
   "source": [
    "import boto3, os\n",
    "from dotenv import load_dotenv"
   ]
  },
  {
   "cell_type": "code",
   "execution_count": null,
   "id": "db62c490",
   "metadata": {},
   "outputs": [],
   "source": [
    "load_dotenv()"
   ]
  },
  {
   "cell_type": "code",
   "execution_count": null,
   "id": "06a38ab2",
   "metadata": {},
   "outputs": [],
   "source": [
    "s3_client = boto3.client('s3')\n",
    "s3_client.download_file(os.getenv('S3_BUCKET'), os.getenv('S3_BUCKET_OBJECT'), os.getenv('DATABASE_FILE_PATH'))"
   ]
  },
  {
   "cell_type": "code",
   "execution_count": null,
   "id": "653c50bd",
   "metadata": {},
   "outputs": [],
   "source": [
    "os.getcwd()"
   ]
  },
  {
   "cell_type": "code",
   "execution_count": null,
   "id": "4bc0de2a",
   "metadata": {},
   "outputs": [],
   "source": [
    "import pandas as pd "
   ]
  },
  {
   "cell_type": "code",
   "execution_count": null,
   "id": "f758ee49",
   "metadata": {},
   "outputs": [],
   "source": [
    "data = [\n",
    "    (1, 'Alice', 30, 'HR'),\n",
    "    (2, 'Bob', 25, 'Engineering'),\n",
    "    (3, 'Charlie', 28, 'Sales'),\n",
    "    (4, 'David', 35, 'Marketing'),\n",
    "    (5, 'Eve', 22, 'HR')\n",
    "]\n",
    "data"
   ]
  },
  {
   "cell_type": "code",
   "execution_count": null,
   "id": "bfcdf44c",
   "metadata": {},
   "outputs": [],
   "source": [
    "pd.DataFrame(data, columns=[\"id\", 'name', 'age', 'desig'])"
   ]
  },
  {
   "cell_type": "code",
   "execution_count": null,
   "id": "e2a1eefd",
   "metadata": {},
   "outputs": [],
   "source": [
    "import sqlite3\n",
    "\n",
    "conn = sqlite3.connect(\"database/Bank.db\")\n",
    "cursor = conn.cursor()\n",
    "\n",
    "cursor.execute(\"SELECT * FROM ChurnModelling LIMIT 1\")\n",
    "column_names = [description[0] for description in cursor.description]"
   ]
  },
  {
   "cell_type": "code",
   "execution_count": null,
   "id": "99e3de8e",
   "metadata": {},
   "outputs": [],
   "source": [
    "column_names"
   ]
  },
  {
   "cell_type": "code",
   "execution_count": null,
   "id": "35383581",
   "metadata": {},
   "outputs": [],
   "source": [
    "import os "
   ]
  },
  {
   "cell_type": "code",
   "execution_count": null,
   "id": "755733ae",
   "metadata": {},
   "outputs": [],
   "source": [
    "os.path.split('database/folder/new folder/Bank.db')"
   ]
  },
  {
   "cell_type": "code",
   "execution_count": null,
   "id": "b13f1965",
   "metadata": {},
   "outputs": [],
   "source": []
  }
 ],
 "metadata": {
  "kernelspec": {
   "display_name": "Churn_Modelling",
   "language": "python",
   "name": "python3"
  },
  "language_info": {
   "codemirror_mode": {
    "name": "ipython",
    "version": 3
   },
   "file_extension": ".py",
   "mimetype": "text/x-python",
   "name": "python",
   "nbconvert_exporter": "python",
   "pygments_lexer": "ipython3",
   "version": "3.12.0"
  }
 },
 "nbformat": 4,
 "nbformat_minor": 5
}
